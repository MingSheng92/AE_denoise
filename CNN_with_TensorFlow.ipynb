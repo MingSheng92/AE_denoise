{
  "nbformat": 4,
  "nbformat_minor": 0,
  "metadata": {
    "colab": {
      "name": "CNN with TensorFlow.ipynb",
      "provenance": [],
      "authorship_tag": "ABX9TyMQdQa7+0xIBpGSbV0uiOQG",
      "include_colab_link": true
    },
    "kernelspec": {
      "name": "python3",
      "display_name": "Python 3"
    },
    "language_info": {
      "name": "python"
    }
  },
  "cells": [
    {
      "cell_type": "markdown",
      "metadata": {
        "id": "view-in-github",
        "colab_type": "text"
      },
      "source": [
        "<a href=\"https://colab.research.google.com/github/MingSheng92/AE_denoise/blob/master/CNN_with_TensorFlow.ipynb\" target=\"_parent\"><img src=\"https://colab.research.google.com/assets/colab-badge.svg\" alt=\"Open In Colab\"/></a>"
      ]
    },
    {
      "cell_type": "markdown",
      "metadata": {
        "id": "VsvaTIX0n2yy"
      },
      "source": [
        "## **Getting started**\n",
        "\n",
        "In this notebook, we are creating a convolutional neural network to solve image classification problem.\n",
        "\n",
        "I will keep all the class and functions at the top section and calling the afterwards. For me personally I like to upload the source python file onto github and load it with magic functions so that I can keep the notebook with least amount of codes."
      ]
    },
    {
      "cell_type": "code",
      "metadata": {
        "id": "DddiK7N2SkAt"
      },
      "source": [
        "# TensorFlow and tf.keras\n",
        "import tensorflow as tf\n",
        "\n",
        "# Helper libraries\n",
        "import numpy as np\n",
        "import matplotlib.pyplot as plt"
      ],
      "execution_count": null,
      "outputs": []
    },
    {
      "cell_type": "markdown",
      "metadata": {
        "id": "Eg-9YK2kGdxr"
      },
      "source": [
        "Utility fucntions "
      ]
    },
    {
      "cell_type": "code",
      "metadata": {
        "id": "SVW2S-UjTRBG"
      },
      "source": [
        "# simple load data function\n",
        "def loadDataset():\n",
        "  # input image dimensions\n",
        "  img_rows, img_cols = 28, 28\n",
        "\n",
        "  # load dataset from tensorflow\n",
        "  fashion_mnist = tf.keras.datasets.fashion_mnist\n",
        "  # it will return the training and test data\n",
        "  (train_feature, train_labels), (test_feature, test_labels) = fashion_mnist.load_data()\n",
        "\n",
        "  # reshape loaded dataset back to original image size for later usage\n",
        "  train_feature = train_feature.reshape(-1, img_rows, img_cols, 1)\n",
        "  test_feature = test_feature.reshape(-1, img_rows, img_cols, 1)\n",
        "  \n",
        "  # return the reshape image data \n",
        "  return (train_feature, train_labels), (test_feature, test_labels)\n",
        "\n",
        "# to normalize the image data to scale from 0 - 1\n",
        "def normalize(data):\n",
        "\t# return normalized data\n",
        "\treturn (data - np.min(data))/(np.max(data) - np.min(data))\n",
        "\n",
        "# we use this function to perform one hot encoding to the predict labels \n",
        "def tf_one_hot_enc(labels):\n",
        "  # depth is based on total number of class\n",
        "  depth = len(np.unique(labels))\n",
        "\n",
        "  # return one hot encoded arrays \n",
        "  return tf.one_hot(labels, depth)"
      ],
      "execution_count": null,
      "outputs": []
    },
    {
      "cell_type": "code",
      "metadata": {
        "id": "e1ji7tJ7NARe"
      },
      "source": [
        "## CNN class with sequential API \n",
        "class CNN(object):\n",
        "  # initialize class value for later processing purpose\n",
        "  def __init__(self, batch_size=128, epochs=10, num_classes=10):\n",
        "    self.batch_size = batch_size\n",
        "    self.epochs = epochs\n",
        "    self.num_classes = num_classes\n",
        "    self.input_shape = (28, 28, 1)\n",
        "    self.CNN_model = None\n",
        "\n",
        "  #get summary class\n",
        "  def getModelSummary(self):\n",
        "    self.CNN_model.summary()\n",
        "\n",
        "  # num_classes\n",
        "  def createCNN(self, layer_size, loss='categorical_crossentropy'):\n",
        "        \n",
        "    model = tf.keras.models.Sequential([\n",
        "      tf.keras.layers.Conv2D(layer_size, (3, 3), activation='relu', input_shape=self.input_shape),\n",
        "      tf.keras.layers.MaxPooling2D(pool_size=(2, 2)),\n",
        "      tf.keras.layers.Dropout(0.2),\n",
        "\n",
        "      # Flatten units\n",
        "      tf.keras.layers.Flatten(),\n",
        "      # Add a hidden layer with dropout\n",
        "      tf.keras.layers.Dense(128, activation=\"relu\"),\n",
        "      tf.keras.layers.Dropout(0.5),\n",
        "\n",
        "      tf.keras.layers.Dense(128, activation=\"relu\"),\n",
        "      tf.keras.layers.Dropout(0.2),\n",
        "\n",
        "      # an output layer for the full class in your dataset\n",
        "      tf.keras.layers.Dense(self.num_classes, activation=\"softmax\")\n",
        "    ])\n",
        "\n",
        "    model.compile(\n",
        "      optimizer = tf.keras.optimizers.SGD(learning_rate=0.1, decay=0, momentum=0, nesterov=False),\n",
        "      loss = loss,\n",
        "      metrics = ['accuracy']\n",
        "    )\n",
        "    \n",
        "    # set the final model\n",
        "    self.CNN_model = model"
      ],
      "execution_count": null,
      "outputs": []
    },
    {
      "cell_type": "code",
      "metadata": {
        "id": "vuyBI12YIq3y"
      },
      "source": [
        "def plotImage(first_n, dataset):\n",
        "  # plot first few images\n",
        "  for i in range(first_n):\n",
        "    imgData = dataset[i].squeeze(axis=2)\n",
        "    # define subplot\n",
        "    plt.subplot(330 + 1 + i)\n",
        "    # plot raw pixel data\n",
        "    plt.imshow(imgData, cmap=plt.get_cmap('gray'))\n",
        "   \n",
        "  # show the figure\n",
        "  plt.show()"
      ],
      "execution_count": null,
      "outputs": []
    },
    {
      "cell_type": "code",
      "metadata": {
        "id": "36VON5b7Smyt"
      },
      "source": [
        "# load dataset\n",
        "(train_X, train_Y), (test_X, test_Y) = loadDataset()\n",
        "\n",
        "# pre-process the data with normalization \n",
        "train_X = normalize(train_X)\n",
        "test_X = normalize(test_X)"
      ],
      "execution_count": null,
      "outputs": []
    },
    {
      "cell_type": "code",
      "metadata": {
        "id": "6vkSCiJXV4df"
      },
      "source": [
        "# summarize loaded dataset\n",
        "print('Train: X=%s, y=%s' % (train_X.shape, train_Y.shape))\n",
        "print('Test: X=%s, y=%s' % (test_X.shape, test_Y.shape))"
      ],
      "execution_count": null,
      "outputs": []
    },
    {
      "cell_type": "code",
      "metadata": {
        "id": "Eek1jpVJIH-g"
      },
      "source": [
        "train_Y = tf_one_hot_enc(train_Y)\n",
        "test_Y = tf_one_hot_enc(test_Y)"
      ],
      "execution_count": null,
      "outputs": []
    },
    {
      "cell_type": "code",
      "metadata": {
        "id": "at-SdwueQN0z"
      },
      "source": [
        "plotImage(9, train_X)"
      ],
      "execution_count": null,
      "outputs": []
    },
    {
      "cell_type": "code",
      "metadata": {
        "id": "x-lXV1IzSis8"
      },
      "source": [
        "batch_size = 512\n",
        "num_classes = 10\n",
        "epochs = 30\n",
        "\n",
        "NN = CNN(batch_size, epochs, num_classes)"
      ],
      "execution_count": null,
      "outputs": []
    },
    {
      "cell_type": "code",
      "metadata": {
        "id": "F7RPe1m1cYi3"
      },
      "source": [
        "NN.createCNN(num_classes, 32)"
      ],
      "execution_count": null,
      "outputs": []
    },
    {
      "cell_type": "code",
      "metadata": {
        "id": "ViTWDiUKc1ea"
      },
      "source": [
        "NN.getModelSummary()"
      ],
      "execution_count": null,
      "outputs": []
    },
    {
      "cell_type": "code",
      "metadata": {
        "id": "GNTiCfOEdF25"
      },
      "source": [
        "hist = NN.CNN_model.fit(x=train_X, y=train_Y,\n",
        "\tvalidation_data=(test_X, test_Y),\n",
        "\tbatch_size=batch_size, epochs=epochs)"
      ],
      "execution_count": null,
      "outputs": []
    },
    {
      "cell_type": "code",
      "metadata": {
        "id": "eCgvD1UYiR2b"
      },
      "source": [
        "# list all data in history\n",
        "print(hist.history.keys())\n",
        "# summarize history for accuracy\n",
        "plt.plot(hist.history['accuracy'])\n",
        "plt.plot(hist.history['val_accuracy'])\n",
        "plt.title('model accuracy')\n",
        "plt.ylabel('accuracy')\n",
        "plt.xlabel('epoch')\n",
        "plt.legend(['train', 'test'], loc='upper left')\n",
        "plt.show()\n",
        "# summarize history for loss\n",
        "plt.plot(hist.history['loss'])\n",
        "plt.plot(hist.history['val_loss'])\n",
        "plt.title('model loss')\n",
        "plt.ylabel('loss')\n",
        "plt.xlabel('epoch')\n",
        "plt.legend(['train', 'test'], loc='upper left')\n",
        "plt.show()"
      ],
      "execution_count": null,
      "outputs": []
    },
    {
      "cell_type": "markdown",
      "metadata": {
        "id": "ELKYdocbo5xI"
      },
      "source": [
        "### Import Libraries and source code"
      ]
    },
    {
      "cell_type": "code",
      "metadata": {
        "id": "uJktlriLo_BU"
      },
      "source": [
        "# TensorFlow and tf.keras\n",
        "import tensorflow as tf\n",
        "\n",
        "# Helper libraries\n",
        "import numpy as np\n",
        "import matplotlib.pyplot as plt\n",
        "import cv2 as cv\n",
        "from google.colab.patches import cv2_imshow\n",
        "from  PIL import Image"
      ],
      "execution_count": 11,
      "outputs": []
    },
    {
      "cell_type": "markdown",
      "metadata": {
        "id": "an3CbXg8pq4B"
      },
      "source": [
        "Here we have all the utility functions that we will use in later segment.\n",
        "\n",
        "We have the following functions:\n",
        "- loadDataset(): To load the dataset from keras and perform basic data transformation.   \n",
        "- normalized(): Here we normalized the pixel value to range from 0 - 1. Since we know that a pixel value ranges from 0 - 255, another alternatives is to directly divide the value by 255.  \n",
        "- tf_one_hot_enc(): In order to train our multiclass cnn model, we will need to one hot encode the class label before we feed it into the model for training.\n",
        "- plotImage(): A simple function to plot out the first-N images in the dataset.\n",
        "- plotModelAcc(): Function to plot the test and validation accuracy during training.\n",
        "- plotModelLost(): Function to plot the test and validation loss during training.\n",
        "\n",
        "Even though the dataset has already done some conversion for us, labels has already been convert to numbers.\n",
        "\n",
        "- T-shirt => 0 \n",
        "- Trouser => 1\n",
        "- Pullover => 2\n",
        "- dress => 3\n",
        "- coat => 4 \n",
        "- sandal => 5\n",
        "- shirt => 6\n",
        "- sneaker => 7 \n",
        "- bag => 8 \n",
        "- ankle boots => 9\n",
        "\n",
        "But we will need to perform one hot encoding to the converted labels. For example:\n",
        "- T-shirt => [1 0 0 0 0 0 0 0 0 0] \n",
        "- sandal => [0 0 0 0 0 1 0 0 0 0]\n",
        "\n",
        "Notice that after one-hot encoding T-shirt has 1 is at index 0, which indicates this is class 0, and the apply for the rest of the classes."
      ]
    },
    {
      "cell_type": "code",
      "metadata": {
        "id": "u2Yvw-TYpqPi"
      },
      "source": [
        "# simple load data function\n",
        "def loadDataset():\n",
        "  # input image dimensions\n",
        "  img_rows, img_cols = 28, 28\n",
        "\n",
        "  # load dataset from tensorflow\n",
        "  fashion_mnist = tf.keras.datasets.fashion_mnist\n",
        "  # it will return the training and test data\n",
        "  (train_feature, train_labels), (test_feature, test_labels) = fashion_mnist.load_data()\n",
        "\n",
        "  # reshape loaded dataset back to original image size for later usage\n",
        "  train_feature = train_feature.reshape(-1, img_rows, img_cols, 1)\n",
        "  test_feature = test_feature.reshape(-1, img_rows, img_cols, 1)\n",
        "  \n",
        "  # return the reshape image data \n",
        "  return (train_feature, train_labels), (test_feature, test_labels)\n",
        "\n",
        "# to normalize the image data to scale from 0 - 1\n",
        "def normalize(data):\n",
        "\t# return normalized data\n",
        "\treturn (data - np.min(data))/(np.max(data) - np.min(data))\n",
        "\n",
        "# we use this function to perform one hot encoding to the predict labels \n",
        "def tf_one_hot_enc(labels):\n",
        "  # depth is based on total number of class\n",
        "  depth = len(np.unique(labels))\n",
        "\n",
        "  # return one hot encoded arrays \n",
        "  return tf.one_hot(labels, depth)\n",
        "\n",
        "# plot image\n",
        "def plotImage(first_n, dataset):\n",
        "  # plot first few images\n",
        "  for i in range(first_n):\n",
        "    imgData = dataset[i].squeeze(axis=2)\n",
        "    # define subplot\n",
        "    plt.subplot(330 + 1 + i)\n",
        "    # plot raw pixel data\n",
        "    plt.imshow(imgData, cmap=plt.get_cmap('gray'))\n",
        "   \n",
        "  # show the figure\n",
        "  plt.show()\n",
        "\n",
        "def plotModelAcc(hist):\n",
        "  # summarize history for accuracy\n",
        "  plt.plot(hist.history['accuracy'])\n",
        "  plt.plot(hist.history['val_accuracy'])\n",
        "  plt.title('model accuracy')\n",
        "  plt.ylabel('accuracy')\n",
        "  plt.xlabel('epoch')\n",
        "  plt.legend(['train', 'test'], loc='upper left')\n",
        "  plt.show()\n",
        "\n",
        "def plotModelLoss(hist):\n",
        "  # summarize history for loss\n",
        "  plt.plot(hist.history['loss'])\n",
        "  plt.plot(hist.history['val_loss'])\n",
        "  plt.title('model loss')\n",
        "  plt.ylabel('loss')\n",
        "  plt.xlabel('epoch')\n",
        "  plt.legend(['train', 'test'], loc='upper left')\n",
        "  plt.show()\n",
        "\n",
        "\n",
        "def plot_predictions(images, predictions, true_labels, correct=True):\n",
        "  # constant \n",
        "  FM_LABEL = ['t_shirt', 'trouser', 'pullover', 'dress', 'coat', 'sandal', 'shirt', 'sneaker', 'bag', 'ankle_boots']\n",
        "\n",
        "  label_string = \"correct\"\n",
        "  incorrect = np.where(predictions==true_labels)[0]\n",
        "  if not correct:\n",
        "    label_string = \"incorrect\"\n",
        "    incorrect = np.where(predictions!=true_labels)[0]\n",
        "\n",
        "  print(\"Found {} {} labels\" .format(len(incorrect), label_string))\n",
        "  \n",
        "  for i, incorrect in enumerate(incorrect[:9]):\n",
        "    plt.subplot(3,3,i+1)\n",
        "    plt.imshow(images[incorrect].reshape(28,28), interpolation='none')\n",
        "    plt.title(\"{}, {}\".format(FM_LABEL[predictions[incorrect]], FM_LABEL[true_labels[incorrect]]))\n",
        "    plt.subplots_adjust(bottom=0.1, right=1, top=1.7)"
      ],
      "execution_count": 30,
      "outputs": []
    },
    {
      "cell_type": "markdown",
      "metadata": {
        "id": "fQjcHOiotmrJ"
      },
      "source": [
        "Next up we have the code for our CNN model. To make it simple for us to use it later I have make it into a class."
      ]
    },
    {
      "cell_type": "code",
      "metadata": {
        "id": "tnKVJEsdt29P"
      },
      "source": [
        "## CNN class with sequential API \n",
        "class CNN(object):\n",
        "  # initialize class value for later processing purpose\n",
        "  def __init__(self, batch_size=128, epochs=10, num_classes=10):\n",
        "    self.batch_size = batch_size\n",
        "    self.epochs = epochs\n",
        "    self.num_classes = num_classes\n",
        "    self.input_shape = (28, 28, 1)\n",
        "    self.CNN_model = None\n",
        "\n",
        "  #get summary class\n",
        "  def getModelSummary(self):\n",
        "    self.CNN_model.summary()\n",
        "\n",
        "  # num_classes\n",
        "  def createCNN(self, layer_size, loss='categorical_crossentropy'):\n",
        "        \n",
        "    model = tf.keras.models.Sequential([\n",
        "      tf.keras.layers.Conv2D(layer_size, (3, 3), activation='relu', input_shape=self.input_shape),\n",
        "      tf.keras.layers.MaxPooling2D(pool_size=(2, 2)),\n",
        "      tf.keras.layers.Dropout(0.2),\n",
        "\n",
        "      # Flatten units\n",
        "      tf.keras.layers.Flatten(),\n",
        "      # Add a hidden layer with dropout\n",
        "      tf.keras.layers.Dense(128, activation=\"relu\"),\n",
        "      tf.keras.layers.Dropout(0.5),\n",
        "\n",
        "      tf.keras.layers.Dense(128, activation=\"relu\"),\n",
        "      tf.keras.layers.Dropout(0.2),\n",
        "\n",
        "      # an output layer for the full class in your dataset\n",
        "      tf.keras.layers.Dense(self.num_classes, activation=\"softmax\")\n",
        "    ])\n",
        "\n",
        "    model.compile(\n",
        "      optimizer = tf.keras.optimizers.SGD(learning_rate=0.1, decay=0, momentum=0, nesterov=False),\n",
        "      loss = loss,\n",
        "      metrics = ['accuracy']\n",
        "    )\n",
        "    \n",
        "    # set the final model\n",
        "    self.CNN_model = model"
      ],
      "execution_count": 13,
      "outputs": []
    },
    {
      "cell_type": "markdown",
      "metadata": {
        "id": "GpSlNTwet_Sm"
      },
      "source": [
        "## Let's Start \n",
        "\n",
        "Now that we have all the codes ready. "
      ]
    },
    {
      "cell_type": "code",
      "metadata": {
        "id": "8_5uRdRHt9uD"
      },
      "source": [
        "# load dataset\n",
        "(train_X, train_Y), (test_X, test_Y) = loadDataset()\n",
        "\n",
        "# pre-process the data with normalization \n",
        "train_X = normalize(train_X)\n",
        "test_X = normalize(test_X)\n",
        "\n",
        "# perform one-hot encoding to the labels\n",
        "train_Y = tf_one_hot_enc(train_Y)\n",
        "test_Y = tf_one_hot_enc(test_Y)"
      ],
      "execution_count": 14,
      "outputs": []
    },
    {
      "cell_type": "markdown",
      "metadata": {
        "id": "35cmJshfu6h4"
      },
      "source": [
        "One we load the data, we can do the following. First we perform data analysis on the dataset then we will perform data pre-processing to the dataset(if any).\n",
        "\n",
        "Since this is a well cleaned dataset, the pre-processing we need to do is fairly minimal. In our case, we only need to normalized the pixel data so that it ranges between 0 - 1."
      ]
    },
    {
      "cell_type": "code",
      "metadata": {
        "id": "z80oWihzwdH6",
        "colab": {
          "base_uri": "https://localhost:8080/"
        },
        "outputId": "c1422218-6633-4673-9f63-da45856e52f1"
      },
      "source": [
        "# Here we checked the size of our dataset\n",
        "print('Train: X=%s, y=%s' % (train_X.shape, train_Y.shape))\n",
        "print('Test: X=%s, y=%s' % (test_X.shape, test_Y.shape))"
      ],
      "execution_count": 15,
      "outputs": [
        {
          "output_type": "stream",
          "name": "stdout",
          "text": [
            "Train: X=(60000, 28, 28, 1), y=(60000, 10)\n",
            "Test: X=(10000, 28, 28, 1), y=(10000, 10)\n"
          ]
        }
      ]
    },
    {
      "cell_type": "markdown",
      "metadata": {
        "id": "JBMigjwSwMqY"
      },
      "source": [
        "Fashion MNIST dataset consist of 60,000 training data and 10,000 testing data, while (28, 28, 1) is the image size and channel count. This basically means that each image is 28 x 28 and it is greyscale image.\n",
        "\n",
        "We can plot out the first N image with our utility function, so that we have a clearer picture of what is in the dataset. We are ploting out the first 9 images in the training set."
      ]
    },
    {
      "cell_type": "code",
      "metadata": {
        "id": "Qbrl9MyJu5_Q",
        "colab": {
          "base_uri": "https://localhost:8080/",
          "height": 268
        },
        "outputId": "9308195c-48c1-42d5-d564-e33c3e104829"
      },
      "source": [
        "plotImage(9, train_X)"
      ],
      "execution_count": 16,
      "outputs": [
        {
          "output_type": "display_data",
          "data": {
            "image/png": "[encoded data removed]",
            "text/plain": [
              "<Figure size 432x288 with 9 Axes>"
            ]
          },
          "metadata": {
            "needs_background": "light"
          }
        }
      ]
    },
    {
      "cell_type": "markdown",
      "metadata": {
        "id": "hCbL7h7kz7pM"
      },
      "source": [
        "Now we will create the model with the CNN class we created earlier."
      ]
    },
    {
      "cell_type": "code",
      "metadata": {
        "id": "R7vvG38Pwa7v"
      },
      "source": [
        "batch_size = 512\n",
        "num_classes = 10\n",
        "epochs = 30\n",
        "\n",
        "NN = CNN(batch_size, epochs, num_classes)\n",
        "NN.createCNN(32)"
      ],
      "execution_count": 17,
      "outputs": []
    },
    {
      "cell_type": "markdown",
      "metadata": {
        "id": "x2bkViDn0GLU"
      },
      "source": [
        "Create a summary of our current model."
      ]
    },
    {
      "cell_type": "code",
      "metadata": {
        "id": "kpBcuGQT0FFo",
        "colab": {
          "base_uri": "https://localhost:8080/"
        },
        "outputId": "e4d9d7aa-106a-41b6-b8fc-4b0fe0cfdf7b"
      },
      "source": [
        "NN.getModelSummary()"
      ],
      "execution_count": 18,
      "outputs": [
        {
          "output_type": "stream",
          "name": "stdout",
          "text": [
            "Model: \"sequential_1\"\n",
            "_________________________________________________________________\n",
            " Layer (type)                Output Shape              Param #   \n",
            "=================================================================\n",
            " conv2d_1 (Conv2D)           (None, 26, 26, 32)        320       \n",
            "                                                                 \n",
            " max_pooling2d_1 (MaxPooling  (None, 13, 13, 32)       0         \n",
            " 2D)                                                             \n",
            "                                                                 \n",
            " dropout_3 (Dropout)         (None, 13, 13, 32)        0         \n",
            "                                                                 \n",
            " flatten_1 (Flatten)         (None, 5408)              0         \n",
            "                                                                 \n",
            " dense_3 (Dense)             (None, 128)               692352    \n",
            "                                                                 \n",
            " dropout_4 (Dropout)         (None, 128)               0         \n",
            "                                                                 \n",
            " dense_4 (Dense)             (None, 128)               16512     \n",
            "                                                                 \n",
            " dropout_5 (Dropout)         (None, 128)               0         \n",
            "                                                                 \n",
            " dense_5 (Dense)             (None, 10)                1290      \n",
            "                                                                 \n",
            "=================================================================\n",
            "Total params: 710,474\n",
            "Trainable params: 710,474\n",
            "Non-trainable params: 0\n",
            "_________________________________________________________________\n"
          ]
        }
      ]
    },
    {
      "cell_type": "code",
      "metadata": {
        "id": "-1kO8ZnN0fsi",
        "colab": {
          "base_uri": "https://localhost:8080/"
        },
        "outputId": "692d8494-8865-424d-e819-66badb76659c"
      },
      "source": [
        "hist = NN.CNN_model.fit(x=train_X, y=train_Y,\n",
        "\tvalidation_data=(test_X, test_Y),\n",
        "\tbatch_size=batch_size, epochs=epochs)"
      ],
      "execution_count": 19,
      "outputs": [
        {
          "output_type": "stream",
          "name": "stdout",
          "text": [
            "Epoch 1/30\n",
            "118/118 [==============================] - 27s 222ms/step - loss: 1.2541 - accuracy: 0.5318 - val_loss: 0.8203 - val_accuracy: 0.6738\n",
            "Epoch 2/30\n",
            "118/118 [==============================] - 27s 225ms/step - loss: 0.7601 - accuracy: 0.7149 - val_loss: 0.6104 - val_accuracy: 0.7630\n",
            "Epoch 3/30\n",
            "118/118 [==============================] - 27s 227ms/step - loss: 0.6696 - accuracy: 0.7469 - val_loss: 0.5780 - val_accuracy: 0.7641\n",
            "Epoch 4/30\n",
            "118/118 [==============================] - 27s 226ms/step - loss: 0.6215 - accuracy: 0.7681 - val_loss: 0.5634 - val_accuracy: 0.7617\n",
            "Epoch 5/30\n",
            "118/118 [==============================] - 27s 226ms/step - loss: 0.5887 - accuracy: 0.7829 - val_loss: 0.5121 - val_accuracy: 0.8081\n",
            "Epoch 6/30\n",
            "118/118 [==============================] - 27s 226ms/step - loss: 0.5537 - accuracy: 0.7969 - val_loss: 0.4837 - val_accuracy: 0.8175\n",
            "Epoch 7/30\n",
            "118/118 [==============================] - 26s 224ms/step - loss: 0.5280 - accuracy: 0.8072 - val_loss: 0.5182 - val_accuracy: 0.8021\n",
            "Epoch 8/30\n",
            "118/118 [==============================] - 27s 227ms/step - loss: 0.5053 - accuracy: 0.8182 - val_loss: 0.4836 - val_accuracy: 0.8152\n",
            "Epoch 9/30\n",
            "118/118 [==============================] - 27s 230ms/step - loss: 0.4839 - accuracy: 0.8234 - val_loss: 0.4211 - val_accuracy: 0.8473\n",
            "Epoch 10/30\n",
            "118/118 [==============================] - 27s 227ms/step - loss: 0.4722 - accuracy: 0.8310 - val_loss: 0.4045 - val_accuracy: 0.8513\n",
            "Epoch 11/30\n",
            "118/118 [==============================] - 27s 229ms/step - loss: 0.4530 - accuracy: 0.8367 - val_loss: 0.3969 - val_accuracy: 0.8523\n",
            "Epoch 12/30\n",
            "118/118 [==============================] - 27s 230ms/step - loss: 0.4391 - accuracy: 0.8418 - val_loss: 0.3942 - val_accuracy: 0.8607\n",
            "Epoch 13/30\n",
            "118/118 [==============================] - 27s 225ms/step - loss: 0.4268 - accuracy: 0.8471 - val_loss: 0.3893 - val_accuracy: 0.8564\n",
            "Epoch 14/30\n",
            "118/118 [==============================] - 27s 226ms/step - loss: 0.4171 - accuracy: 0.8505 - val_loss: 0.3646 - val_accuracy: 0.8703\n",
            "Epoch 15/30\n",
            "118/118 [==============================] - 27s 226ms/step - loss: 0.4077 - accuracy: 0.8546 - val_loss: 0.3587 - val_accuracy: 0.8734\n",
            "Epoch 16/30\n",
            "118/118 [==============================] - 27s 225ms/step - loss: 0.3992 - accuracy: 0.8588 - val_loss: 0.3576 - val_accuracy: 0.8708\n",
            "Epoch 17/30\n",
            "118/118 [==============================] - 27s 225ms/step - loss: 0.3917 - accuracy: 0.8612 - val_loss: 0.3448 - val_accuracy: 0.8755\n",
            "Epoch 18/30\n",
            "118/118 [==============================] - 26s 224ms/step - loss: 0.3824 - accuracy: 0.8614 - val_loss: 0.3457 - val_accuracy: 0.8714\n",
            "Epoch 19/30\n",
            "118/118 [==============================] - 27s 225ms/step - loss: 0.3757 - accuracy: 0.8666 - val_loss: 0.3380 - val_accuracy: 0.8751\n",
            "Epoch 20/30\n",
            "118/118 [==============================] - 27s 228ms/step - loss: 0.3681 - accuracy: 0.8694 - val_loss: 0.3253 - val_accuracy: 0.8841\n",
            "Epoch 21/30\n",
            "118/118 [==============================] - 27s 227ms/step - loss: 0.3624 - accuracy: 0.8702 - val_loss: 0.3513 - val_accuracy: 0.8716\n",
            "Epoch 22/30\n",
            "118/118 [==============================] - 27s 231ms/step - loss: 0.3571 - accuracy: 0.8725 - val_loss: 0.3190 - val_accuracy: 0.8839\n",
            "Epoch 23/30\n",
            "118/118 [==============================] - 27s 229ms/step - loss: 0.3517 - accuracy: 0.8735 - val_loss: 0.3331 - val_accuracy: 0.8800\n",
            "Epoch 24/30\n",
            "118/118 [==============================] - 27s 231ms/step - loss: 0.3464 - accuracy: 0.8762 - val_loss: 0.3340 - val_accuracy: 0.8787\n",
            "Epoch 25/30\n",
            "118/118 [==============================] - 27s 229ms/step - loss: 0.3440 - accuracy: 0.8783 - val_loss: 0.3137 - val_accuracy: 0.8862\n",
            "Epoch 26/30\n",
            "118/118 [==============================] - 27s 228ms/step - loss: 0.3374 - accuracy: 0.8798 - val_loss: 0.3297 - val_accuracy: 0.8795\n",
            "Epoch 27/30\n",
            "118/118 [==============================] - 27s 230ms/step - loss: 0.3342 - accuracy: 0.8794 - val_loss: 0.3049 - val_accuracy: 0.8884\n",
            "Epoch 28/30\n",
            "118/118 [==============================] - 27s 228ms/step - loss: 0.3304 - accuracy: 0.8819 - val_loss: 0.3405 - val_accuracy: 0.8723\n",
            "Epoch 29/30\n",
            "118/118 [==============================] - 27s 229ms/step - loss: 0.3243 - accuracy: 0.8840 - val_loss: 0.2982 - val_accuracy: 0.8911\n",
            "Epoch 30/30\n",
            "118/118 [==============================] - 27s 225ms/step - loss: 0.3220 - accuracy: 0.8852 - val_loss: 0.3029 - val_accuracy: 0.8885\n"
          ]
        }
      ]
    },
    {
      "cell_type": "code",
      "metadata": {
        "colab": {
          "base_uri": "https://localhost:8080/",
          "height": 295
        },
        "id": "RxbFdR__5pwa",
        "outputId": "1fae74af-a54f-431f-e76f-c4c534eb640f"
      },
      "source": [
        "plotModelAcc(hist)"
      ],
      "execution_count": 21,
      "outputs": [
        {
          "output_type": "display_data",
          "data": {
            "image/png": "[encoded data removed]",
            "text/plain": [
              "<Figure size 432x288 with 1 Axes>"
            ]
          },
          "metadata": {
            "needs_background": "light"
          }
        }
      ]
    },
    {
      "cell_type": "code",
      "metadata": {
        "colab": {
          "base_uri": "https://localhost:8080/",
          "height": 295
        },
        "id": "aS2ZWwkm71T6",
        "outputId": "3bbdced4-d432-4613-d423-fced21e712d3"
      },
      "source": [
        "plotModelLoss(hist)"
      ],
      "execution_count": 22,
      "outputs": [
        {
          "output_type": "display_data",
          "data": {
            "image/png": "[encoded data removed]",
            "text/plain": [
              "<Figure size 432x288 with 1 Axes>"
            ]
          },
          "metadata": {
            "needs_background": "light"
          }
        }
      ]
    },
    {
      "cell_type": "code",
      "metadata": {
        "colab": {
          "base_uri": "https://localhost:8080/"
        },
        "id": "6uVjllSw9unk",
        "outputId": "7cc52c7f-58d3-4c08-960b-013716fc6290"
      },
      "source": [
        "score = NN.CNN_model.evaluate(test_X, test_Y)\n",
        "print('Test loss:', score[0])\n",
        "print('Test accuracy:', score[1])"
      ],
      "execution_count": 23,
      "outputs": [
        {
          "output_type": "stream",
          "name": "stdout",
          "text": [
            "313/313 [==============================] - 2s 7ms/step - loss: 0.3029 - accuracy: 0.8885\n",
            "Test loss: 0.30291038751602173\n",
            "Test accuracy: 0.8884999752044678\n"
          ]
        }
      ]
    },
    {
      "cell_type": "markdown",
      "metadata": {
        "id": "0nPWfPDI__db"
      },
      "source": [
        "Here we plot out some of the incorrect examples, if you would like to check on the correct prediction change the parameter into True and rerun it."
      ]
    },
    {
      "cell_type": "code",
      "metadata": {
        "colab": {
          "base_uri": "https://localhost:8080/",
          "height": 517
        },
        "id": "RZYFN-x3-Aui",
        "outputId": "793a5a65-96a3-486b-8a50-f8dec1465f1e"
      },
      "source": [
        "predicted_classes = NN.CNN_model.predict(test_X)\n",
        "predicted_classes = np.argmax(np.round(predicted_classes),axis=1)\n",
        "test_labels = np.argmax(test_Y, axis=1)\n",
        "\n",
        "plot_predictions(test_X, predicted_classes, test_labels, False)"
      ],
      "execution_count": 31,
      "outputs": [
        {
          "output_type": "stream",
          "name": "stdout",
          "text": [
            "Found 1216 incorrect labels\n"
          ]
        },
        {
          "output_type": "display_data",
          "data": {
            "image/png": "[encoded data removed]",
            "text/plain": [
              "<Figure size 432x288 with 9 Axes>"
            ]
          },
          "metadata": {
            "needs_background": "light"
          }
        }
      ]
    },
    {
      "cell_type": "markdown",
      "metadata": {
        "id": "N5UWH7uO4ziI"
      },
      "source": [
        "## What's next? \n",
        "\n",
        "Now that we have a model that perform decently well. The next question you want to ask is how we can improve the model. \n",
        "\n",
        "- Implement cross fold validtaion\n",
        "- Experiment with different layer setup (Add more conv2d layer or hidden layer, use batchnormalization, setup learning rate decay)\n",
        "- calculate your own evaluation metrics (Confusion matrix, Precision and Recall etc...)\n",
        "- Perform hyperparameter tuning\n",
        "- Speed up training time with TPU/GPU"
      ]
    }
  ]
}